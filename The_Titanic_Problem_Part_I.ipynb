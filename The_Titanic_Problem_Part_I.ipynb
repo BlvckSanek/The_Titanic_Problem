{
  "nbformat": 4,
  "nbformat_minor": 0,
  "metadata": {
    "colab": {
      "provenance": [],
      "authorship_tag": "ABX9TyMb8tBYNtIPz4ZsxUGbZ5aA",
      "include_colab_link": true
    },
    "kernelspec": {
      "name": "python3",
      "display_name": "Python 3"
    },
    "language_info": {
      "name": "python"
    }
  },
  "cells": [
    {
      "cell_type": "markdown",
      "metadata": {
        "id": "view-in-github",
        "colab_type": "text"
      },
      "source": [
        "<a href=\"https://colab.research.google.com/github/BlvckSanek/The_Titanic_Problem/blob/main/The_Titanic_Problem_Part_I.ipynb\" target=\"_parent\"><img src=\"https://colab.research.google.com/assets/colab-badge.svg\" alt=\"Open In Colab\"/></a>"
      ]
    },
    {
      "cell_type": "markdown",
      "source": [
        "# Hello World!, This is my attempt at tackling the titanic problem as an ML beginner."
      ],
      "metadata": {
        "id": "tlsMgXnZAPA_"
      }
    },
    {
      "cell_type": "markdown",
      "source": [
        "### We will start off by creating an authentication to kaggle's API and download the titanic dataset."
      ],
      "metadata": {
        "id": "TPY_2V-5BGrz"
      }
    },
    {
      "cell_type": "code",
      "execution_count": 9,
      "metadata": {
        "id": "gGERWVBw_qo0",
        "colab": {
          "base_uri": "https://localhost:8080/"
        },
        "outputId": "200f93cd-3bdb-4ec5-e6ed-3de15d21bb4d"
      },
      "outputs": [
        {
          "output_type": "stream",
          "name": "stdout",
          "text": [
            "mkdir: cannot create directory ‘/root/.kaggle’: File exists\n"
          ]
        }
      ],
      "source": [
        "!mkdir ~/.kaggle"
      ]
    },
    {
      "cell_type": "code",
      "source": [
        "!cp kaggle.json ~/.kaggle/kaggle.json"
      ],
      "metadata": {
        "id": "kX5VAK21Dm5h"
      },
      "execution_count": 11,
      "outputs": []
    },
    {
      "cell_type": "code",
      "source": [
        "!chmod 600 ~/.kaggle/kaggle.json"
      ],
      "metadata": {
        "id": "g-BGIMpTEegK"
      },
      "execution_count": 12,
      "outputs": []
    },
    {
      "cell_type": "code",
      "source": [
        "!kaggle competitions download -c titanic"
      ],
      "metadata": {
        "colab": {
          "base_uri": "https://localhost:8080/"
        },
        "id": "dSL733HaD0Ni",
        "outputId": "3db6ba93-c713-41e3-fceb-1748345fa639"
      },
      "execution_count": 13,
      "outputs": [
        {
          "output_type": "stream",
          "name": "stdout",
          "text": [
            "Downloading titanic.zip to /content\n",
            "\r  0% 0.00/34.1k [00:00<?, ?B/s]\n",
            "\r100% 34.1k/34.1k [00:00<00:00, 2.70MB/s]\n"
          ]
        }
      ]
    },
    {
      "cell_type": "code",
      "source": [
        "!unzip titanic.zip"
      ],
      "metadata": {
        "colab": {
          "base_uri": "https://localhost:8080/"
        },
        "id": "QB89nJdHFfMJ",
        "outputId": "634c9657-7509-4a9f-de2b-960aab478eb1"
      },
      "execution_count": 14,
      "outputs": [
        {
          "output_type": "stream",
          "name": "stdout",
          "text": [
            "Archive:  titanic.zip\n",
            "  inflating: gender_submission.csv   \n",
            "  inflating: test.csv                \n",
            "  inflating: train.csv               \n"
          ]
        }
      ]
    },
    {
      "cell_type": "markdown",
      "source": [
        "We will now import the neccesary python packages to help us in our voyage."
      ],
      "metadata": {
        "id": "zWlAvwuHFuM2"
      }
    },
    {
      "cell_type": "code",
      "source": [
        "import numpy as np\n",
        "import pandas as pd\n",
        "import seaborn as sns\n",
        "import matplotlib.pyplot as plt\n",
        "from matplotlib.pyplot import rcParams\n",
        "import os\n",
        "from sklearn.model_selection import train_test_split\n",
        "from sklearn.model_selection import GridSearchCV, cross_val_score\n",
        "from sklearn.ensemble import RandomForestClassifier\n",
        "from sklearn.metrics import accuracy_score, f1_score, precision_score, recall_score\n",
        "\n",
        "%matplotlib inline\n",
        "rcParams['figure.figsize'] = 10,8\n",
        "sns.set(style='whitegrid', palette='muted',\n",
        "        rc={'figure.figsize': (12,8)})"
      ],
      "metadata": {
        "id": "aTf7H5eNF7k5"
      },
      "execution_count": 1,
      "outputs": []
    },
    {
      "cell_type": "markdown",
      "source": [
        "Load the data into pandas dataframe"
      ],
      "metadata": {
        "id": "y76QMTxyGKK-"
      }
    },
    {
      "cell_type": "code",
      "source": [
        "train = pd.read_csv(\"train.csv\")\n",
        "test = pd.read_csv(\"test.csv\")"
      ],
      "metadata": {
        "id": "22oFffyKGGcP"
      },
      "execution_count": 2,
      "outputs": []
    },
    {
      "cell_type": "markdown",
      "source": [
        "We will go ahead and check the dataset for missing values and find the best way to deal with them."
      ],
      "metadata": {
        "id": "TEsGqSrWG62d"
      }
    },
    {
      "cell_type": "code",
      "source": [
        "print(train.isnull().sum())\n",
        "print()\n",
        "print(test.isnull().sum())"
      ],
      "metadata": {
        "colab": {
          "base_uri": "https://localhost:8080/"
        },
        "id": "OTSLLwdAG6Gc",
        "outputId": "b090d7f4-c28f-4e87-bba4-4f4b866bc8af"
      },
      "execution_count": 7,
      "outputs": [
        {
          "output_type": "stream",
          "name": "stdout",
          "text": [
            "PassengerId      0\n",
            "Survived         0\n",
            "Pclass           0\n",
            "Name             0\n",
            "Sex              0\n",
            "Age            177\n",
            "SibSp            0\n",
            "Parch            0\n",
            "Ticket           0\n",
            "Fare             0\n",
            "Cabin          687\n",
            "Embarked         2\n",
            "dtype: int64\n",
            "\n",
            "PassengerId      0\n",
            "Pclass           0\n",
            "Name             0\n",
            "Sex              0\n",
            "Age             86\n",
            "SibSp            0\n",
            "Parch            0\n",
            "Ticket           0\n",
            "Fare             1\n",
            "Cabin          327\n",
            "Embarked         0\n",
            "dtype: int64\n"
          ]
        }
      ]
    },
    {
      "cell_type": "markdown",
      "source": [
        "## Note whatever preprocessing steps we take wpuld be applied to the testing datasets too. Very Important."
      ],
      "metadata": {
        "id": "gsJVLMabIJRu"
      }
    },
    {
      "cell_type": "markdown",
      "source": [
        "We could see that Age, Cabin and Embarked have some missing values. We will deal with variables separately. For the Age we can simply impute the median for all the missing values but that would not be the best approach. Cabin we would tackle it differently, we talk more about it later. Embarked would just use pandas backfill to handle that. There might be better approach but for now these are the steps I would be taking."
      ],
      "metadata": {
        "id": "2j0SWlIAIWgP"
      }
    },
    {
      "cell_type": "markdown",
      "source": [
        "First off, Age variable. The approach here is to create a new variable called Title and group the dataset by the titles and compute the median for the groups. We will then use the grouped mean for all the titles to impute the missing values. We are killing two birds with one stone.\n",
        "To get the titles we can utilize regular expression to help us extract the titles from the Name column."
      ],
      "metadata": {
        "id": "y36iAP3jJzrK"
      }
    },
    {
      "cell_type": "code",
      "source": [
        "train[\"Title\"] = train[\"Name\"].str.extract(\"([A-Za-z]+)\\.\", expand=True)\n",
        "test[\"Title\"] = test[\"Name\"].str.extract(\"([A-Za-z]+)\\.\", expand=True)"
      ],
      "metadata": {
        "id": "daBHg5Z0HLw-"
      },
      "execution_count": 8,
      "outputs": []
    },
    {
      "cell_type": "markdown",
      "source": [
        "That is done, so we will check the unique titles in the Title variable and see what we can infer from it."
      ],
      "metadata": {
        "id": "pdUoFUgcMXfk"
      }
    },
    {
      "cell_type": "code",
      "source": [
        "print(train.Title.value_counts(), end=\"\\n\\n\")\n",
        "print(test.Title.value_counts())"
      ],
      "metadata": {
        "colab": {
          "base_uri": "https://localhost:8080/"
        },
        "id": "0e8ij5NAL4fC",
        "outputId": "60a84b24-4e71-4d6e-9179-6906e37cf215"
      },
      "execution_count": 9,
      "outputs": [
        {
          "output_type": "stream",
          "name": "stdout",
          "text": [
            "Title\n",
            "Mr          517\n",
            "Miss        182\n",
            "Mrs         125\n",
            "Master       40\n",
            "Dr            7\n",
            "Rev           6\n",
            "Mlle          2\n",
            "Major         2\n",
            "Col           2\n",
            "Countess      1\n",
            "Capt          1\n",
            "Ms            1\n",
            "Sir           1\n",
            "Lady          1\n",
            "Mme           1\n",
            "Don           1\n",
            "Jonkheer      1\n",
            "Name: count, dtype: int64\n",
            "\n",
            "Title\n",
            "Mr        240\n",
            "Miss       78\n",
            "Mrs        72\n",
            "Master     21\n",
            "Col         2\n",
            "Rev         2\n",
            "Ms          1\n",
            "Dr          1\n",
            "Dona        1\n",
            "Name: count, dtype: int64\n"
          ]
        }
      ]
    },
    {
      "cell_type": "markdown",
      "source": [
        "It turns out that most these titles are just French versions of the common English titles, e.g Mme = Madame = Lady = Mrs. We will group the titles into six most common titles by replacing other titles with the appropriate of these six."
      ],
      "metadata": {
        "id": "vTsV-n4umnP8"
      }
    },
    {
      "cell_type": "code",
      "source": [
        "# Create a mapping to replace the rare titles with their appropriate titles in English\n",
        "mapping = {\n",
        "    \"Mlle\": \"Miss\", \"Major\": \"Mr\", \"Col\": \"Mr\", \"Sir\": \"Mr\",\n",
        "    \"Don\": \"Mr\", \"Mme\": \"Mrs\", \"Jonkheer\": \"Mr\", \"Lady\": \"Mrs\",\n",
        "    \"Capt\": \"Mr\", \"Countess\": \"Mrs\", \"Ms\": \"Miss\", \"Dona\": \"Mrs\"\n",
        "}\n",
        "train.replace({\"Title\": mapping}, inplace=True)\n",
        "test.replace({\"Title\": mapping}, inplace=True)"
      ],
      "metadata": {
        "id": "DpFnZmsdMv6x"
      },
      "execution_count": 10,
      "outputs": []
    },
    {
      "cell_type": "code",
      "source": [
        "print(train.Title.value_counts(), end=\"\\n\\n\")\n",
        "print(test.Title.value_counts())"
      ],
      "metadata": {
        "colab": {
          "base_uri": "https://localhost:8080/"
        },
        "id": "7bNtLJsVpkbB",
        "outputId": "d436ef63-94af-4e98-c49c-28f7b03a15fc"
      },
      "execution_count": 12,
      "outputs": [
        {
          "output_type": "stream",
          "name": "stdout",
          "text": [
            "Title\n",
            "Mr        525\n",
            "Miss      185\n",
            "Mrs       128\n",
            "Master     40\n",
            "Dr          7\n",
            "Rev         6\n",
            "Name: count, dtype: int64\n",
            "\n",
            "Title\n",
            "Mr        242\n",
            "Miss       79\n",
            "Mrs        73\n",
            "Master     21\n",
            "Rev         2\n",
            "Dr          1\n",
            "Name: count, dtype: int64\n"
          ]
        }
      ]
    },
    {
      "cell_type": "markdown",
      "source": [
        "## Using the median of the title group.\n",
        "We can now go ahead fill the missing ages with the medians of each title group."
      ],
      "metadata": {
        "id": "4zDJAtFPp7mw"
      }
    },
    {
      "cell_type": "code",
      "source": [
        "group_title_ages = dict(train.groupby(\"Title\")[\"Age\"].median())\n",
        "group_title_ages = dict(test.groupby(\"Title\")[\"Age\"].median())\n",
        "\n",
        "# Create a new column called average age to assit us in our task\n",
        "train[\"Med_Age\"] = train[\"Title\"].apply(lambda x: group_title_ages[x])\n",
        "test[\"Med_Age\"] = test[\"Title\"].apply(lambda x: group_title_ages[x])\n",
        "\n",
        "# Impute all the missing ages with the value in age column\n",
        "train.Age.fillna(train[\"Med_Age\"], inplace=True)\n",
        "test.Age.fillna(test[\"Med_Age\"], inplace=True)\n",
        "\n",
        "# Drop the temporary created column\n",
        "train.drop(\"Med_Age\", axis=1)\n",
        "test.drop(\"Med_Age\", axis=1)"
      ],
      "metadata": {
        "colab": {
          "base_uri": "https://localhost:8080/",
          "height": 458
        },
        "id": "_eocBaxep6lh",
        "outputId": "7898fe4b-4356-4efb-d8ff-904b15b9e1dc"
      },
      "execution_count": 13,
      "outputs": [
        {
          "output_type": "execute_result",
          "data": {
            "text/plain": [
              "     PassengerId  Pclass                                          Name  \\\n",
              "0            892       3                              Kelly, Mr. James   \n",
              "1            893       3              Wilkes, Mrs. James (Ellen Needs)   \n",
              "2            894       2                     Myles, Mr. Thomas Francis   \n",
              "3            895       3                              Wirz, Mr. Albert   \n",
              "4            896       3  Hirvonen, Mrs. Alexander (Helga E Lindqvist)   \n",
              "..           ...     ...                                           ...   \n",
              "413         1305       3                            Spector, Mr. Woolf   \n",
              "414         1306       1                  Oliva y Ocana, Dona. Fermina   \n",
              "415         1307       3                  Saether, Mr. Simon Sivertsen   \n",
              "416         1308       3                           Ware, Mr. Frederick   \n",
              "417         1309       3                      Peter, Master. Michael J   \n",
              "\n",
              "        Sex   Age  SibSp  Parch              Ticket      Fare Cabin Embarked  \\\n",
              "0      male  34.5      0      0              330911    7.8292   NaN        Q   \n",
              "1    female  47.0      1      0              363272    7.0000   NaN        S   \n",
              "2      male  62.0      0      0              240276    9.6875   NaN        Q   \n",
              "3      male  27.0      0      0              315154    8.6625   NaN        S   \n",
              "4    female  22.0      1      1             3101298   12.2875   NaN        S   \n",
              "..      ...   ...    ...    ...                 ...       ...   ...      ...   \n",
              "413    male  29.0      0      0           A.5. 3236    8.0500   NaN        S   \n",
              "414  female  39.0      0      0            PC 17758  108.9000  C105        C   \n",
              "415    male  38.5      0      0  SOTON/O.Q. 3101262    7.2500   NaN        S   \n",
              "416    male  29.0      0      0              359309    8.0500   NaN        S   \n",
              "417    male   7.0      1      1                2668   22.3583   NaN        C   \n",
              "\n",
              "      Title  \n",
              "0        Mr  \n",
              "1       Mrs  \n",
              "2        Mr  \n",
              "3        Mr  \n",
              "4       Mrs  \n",
              "..      ...  \n",
              "413      Mr  \n",
              "414     Mrs  \n",
              "415      Mr  \n",
              "416      Mr  \n",
              "417  Master  \n",
              "\n",
              "[418 rows x 12 columns]"
            ],
            "text/html": [
              "\n",
              "  <div id=\"df-9efe0c38-5d20-448f-83b5-be618b185afd\" class=\"colab-df-container\">\n",
              "    <div>\n",
              "<style scoped>\n",
              "    .dataframe tbody tr th:only-of-type {\n",
              "        vertical-align: middle;\n",
              "    }\n",
              "\n",
              "    .dataframe tbody tr th {\n",
              "        vertical-align: top;\n",
              "    }\n",
              "\n",
              "    .dataframe thead th {\n",
              "        text-align: right;\n",
              "    }\n",
              "</style>\n",
              "<table border=\"1\" class=\"dataframe\">\n",
              "  <thead>\n",
              "    <tr style=\"text-align: right;\">\n",
              "      <th></th>\n",
              "      <th>PassengerId</th>\n",
              "      <th>Pclass</th>\n",
              "      <th>Name</th>\n",
              "      <th>Sex</th>\n",
              "      <th>Age</th>\n",
              "      <th>SibSp</th>\n",
              "      <th>Parch</th>\n",
              "      <th>Ticket</th>\n",
              "      <th>Fare</th>\n",
              "      <th>Cabin</th>\n",
              "      <th>Embarked</th>\n",
              "      <th>Title</th>\n",
              "    </tr>\n",
              "  </thead>\n",
              "  <tbody>\n",
              "    <tr>\n",
              "      <th>0</th>\n",
              "      <td>892</td>\n",
              "      <td>3</td>\n",
              "      <td>Kelly, Mr. James</td>\n",
              "      <td>male</td>\n",
              "      <td>34.5</td>\n",
              "      <td>0</td>\n",
              "      <td>0</td>\n",
              "      <td>330911</td>\n",
              "      <td>7.8292</td>\n",
              "      <td>NaN</td>\n",
              "      <td>Q</td>\n",
              "      <td>Mr</td>\n",
              "    </tr>\n",
              "    <tr>\n",
              "      <th>1</th>\n",
              "      <td>893</td>\n",
              "      <td>3</td>\n",
              "      <td>Wilkes, Mrs. James (Ellen Needs)</td>\n",
              "      <td>female</td>\n",
              "      <td>47.0</td>\n",
              "      <td>1</td>\n",
              "      <td>0</td>\n",
              "      <td>363272</td>\n",
              "      <td>7.0000</td>\n",
              "      <td>NaN</td>\n",
              "      <td>S</td>\n",
              "      <td>Mrs</td>\n",
              "    </tr>\n",
              "    <tr>\n",
              "      <th>2</th>\n",
              "      <td>894</td>\n",
              "      <td>2</td>\n",
              "      <td>Myles, Mr. Thomas Francis</td>\n",
              "      <td>male</td>\n",
              "      <td>62.0</td>\n",
              "      <td>0</td>\n",
              "      <td>0</td>\n",
              "      <td>240276</td>\n",
              "      <td>9.6875</td>\n",
              "      <td>NaN</td>\n",
              "      <td>Q</td>\n",
              "      <td>Mr</td>\n",
              "    </tr>\n",
              "    <tr>\n",
              "      <th>3</th>\n",
              "      <td>895</td>\n",
              "      <td>3</td>\n",
              "      <td>Wirz, Mr. Albert</td>\n",
              "      <td>male</td>\n",
              "      <td>27.0</td>\n",
              "      <td>0</td>\n",
              "      <td>0</td>\n",
              "      <td>315154</td>\n",
              "      <td>8.6625</td>\n",
              "      <td>NaN</td>\n",
              "      <td>S</td>\n",
              "      <td>Mr</td>\n",
              "    </tr>\n",
              "    <tr>\n",
              "      <th>4</th>\n",
              "      <td>896</td>\n",
              "      <td>3</td>\n",
              "      <td>Hirvonen, Mrs. Alexander (Helga E Lindqvist)</td>\n",
              "      <td>female</td>\n",
              "      <td>22.0</td>\n",
              "      <td>1</td>\n",
              "      <td>1</td>\n",
              "      <td>3101298</td>\n",
              "      <td>12.2875</td>\n",
              "      <td>NaN</td>\n",
              "      <td>S</td>\n",
              "      <td>Mrs</td>\n",
              "    </tr>\n",
              "    <tr>\n",
              "      <th>...</th>\n",
              "      <td>...</td>\n",
              "      <td>...</td>\n",
              "      <td>...</td>\n",
              "      <td>...</td>\n",
              "      <td>...</td>\n",
              "      <td>...</td>\n",
              "      <td>...</td>\n",
              "      <td>...</td>\n",
              "      <td>...</td>\n",
              "      <td>...</td>\n",
              "      <td>...</td>\n",
              "      <td>...</td>\n",
              "    </tr>\n",
              "    <tr>\n",
              "      <th>413</th>\n",
              "      <td>1305</td>\n",
              "      <td>3</td>\n",
              "      <td>Spector, Mr. Woolf</td>\n",
              "      <td>male</td>\n",
              "      <td>29.0</td>\n",
              "      <td>0</td>\n",
              "      <td>0</td>\n",
              "      <td>A.5. 3236</td>\n",
              "      <td>8.0500</td>\n",
              "      <td>NaN</td>\n",
              "      <td>S</td>\n",
              "      <td>Mr</td>\n",
              "    </tr>\n",
              "    <tr>\n",
              "      <th>414</th>\n",
              "      <td>1306</td>\n",
              "      <td>1</td>\n",
              "      <td>Oliva y Ocana, Dona. Fermina</td>\n",
              "      <td>female</td>\n",
              "      <td>39.0</td>\n",
              "      <td>0</td>\n",
              "      <td>0</td>\n",
              "      <td>PC 17758</td>\n",
              "      <td>108.9000</td>\n",
              "      <td>C105</td>\n",
              "      <td>C</td>\n",
              "      <td>Mrs</td>\n",
              "    </tr>\n",
              "    <tr>\n",
              "      <th>415</th>\n",
              "      <td>1307</td>\n",
              "      <td>3</td>\n",
              "      <td>Saether, Mr. Simon Sivertsen</td>\n",
              "      <td>male</td>\n",
              "      <td>38.5</td>\n",
              "      <td>0</td>\n",
              "      <td>0</td>\n",
              "      <td>SOTON/O.Q. 3101262</td>\n",
              "      <td>7.2500</td>\n",
              "      <td>NaN</td>\n",
              "      <td>S</td>\n",
              "      <td>Mr</td>\n",
              "    </tr>\n",
              "    <tr>\n",
              "      <th>416</th>\n",
              "      <td>1308</td>\n",
              "      <td>3</td>\n",
              "      <td>Ware, Mr. Frederick</td>\n",
              "      <td>male</td>\n",
              "      <td>29.0</td>\n",
              "      <td>0</td>\n",
              "      <td>0</td>\n",
              "      <td>359309</td>\n",
              "      <td>8.0500</td>\n",
              "      <td>NaN</td>\n",
              "      <td>S</td>\n",
              "      <td>Mr</td>\n",
              "    </tr>\n",
              "    <tr>\n",
              "      <th>417</th>\n",
              "      <td>1309</td>\n",
              "      <td>3</td>\n",
              "      <td>Peter, Master. Michael J</td>\n",
              "      <td>male</td>\n",
              "      <td>7.0</td>\n",
              "      <td>1</td>\n",
              "      <td>1</td>\n",
              "      <td>2668</td>\n",
              "      <td>22.3583</td>\n",
              "      <td>NaN</td>\n",
              "      <td>C</td>\n",
              "      <td>Master</td>\n",
              "    </tr>\n",
              "  </tbody>\n",
              "</table>\n",
              "<p>418 rows × 12 columns</p>\n",
              "</div>\n",
              "    <div class=\"colab-df-buttons\">\n",
              "\n",
              "  <div class=\"colab-df-container\">\n",
              "    <button class=\"colab-df-convert\" onclick=\"convertToInteractive('df-9efe0c38-5d20-448f-83b5-be618b185afd')\"\n",
              "            title=\"Convert this dataframe to an interactive table.\"\n",
              "            style=\"display:none;\">\n",
              "\n",
              "  <svg xmlns=\"http://www.w3.org/2000/svg\" height=\"24px\" viewBox=\"0 -960 960 960\">\n",
              "    <path d=\"M120-120v-720h720v720H120Zm60-500h600v-160H180v160Zm220 220h160v-160H400v160Zm0 220h160v-160H400v160ZM180-400h160v-160H180v160Zm440 0h160v-160H620v160ZM180-180h160v-160H180v160Zm440 0h160v-160H620v160Z\"/>\n",
              "  </svg>\n",
              "    </button>\n",
              "\n",
              "  <style>\n",
              "    .colab-df-container {\n",
              "      display:flex;\n",
              "      gap: 12px;\n",
              "    }\n",
              "\n",
              "    .colab-df-convert {\n",
              "      background-color: #E8F0FE;\n",
              "      border: none;\n",
              "      border-radius: 50%;\n",
              "      cursor: pointer;\n",
              "      display: none;\n",
              "      fill: #1967D2;\n",
              "      height: 32px;\n",
              "      padding: 0 0 0 0;\n",
              "      width: 32px;\n",
              "    }\n",
              "\n",
              "    .colab-df-convert:hover {\n",
              "      background-color: #E2EBFA;\n",
              "      box-shadow: 0px 1px 2px rgba(60, 64, 67, 0.3), 0px 1px 3px 1px rgba(60, 64, 67, 0.15);\n",
              "      fill: #174EA6;\n",
              "    }\n",
              "\n",
              "    .colab-df-buttons div {\n",
              "      margin-bottom: 4px;\n",
              "    }\n",
              "\n",
              "    [theme=dark] .colab-df-convert {\n",
              "      background-color: #3B4455;\n",
              "      fill: #D2E3FC;\n",
              "    }\n",
              "\n",
              "    [theme=dark] .colab-df-convert:hover {\n",
              "      background-color: #434B5C;\n",
              "      box-shadow: 0px 1px 3px 1px rgba(0, 0, 0, 0.15);\n",
              "      filter: drop-shadow(0px 1px 2px rgba(0, 0, 0, 0.3));\n",
              "      fill: #FFFFFF;\n",
              "    }\n",
              "  </style>\n",
              "\n",
              "    <script>\n",
              "      const buttonEl =\n",
              "        document.querySelector('#df-9efe0c38-5d20-448f-83b5-be618b185afd button.colab-df-convert');\n",
              "      buttonEl.style.display =\n",
              "        google.colab.kernel.accessAllowed ? 'block' : 'none';\n",
              "\n",
              "      async function convertToInteractive(key) {\n",
              "        const element = document.querySelector('#df-9efe0c38-5d20-448f-83b5-be618b185afd');\n",
              "        const dataTable =\n",
              "          await google.colab.kernel.invokeFunction('convertToInteractive',\n",
              "                                                    [key], {});\n",
              "        if (!dataTable) return;\n",
              "\n",
              "        const docLinkHtml = 'Like what you see? Visit the ' +\n",
              "          '<a target=\"_blank\" href=https://colab.research.google.com/notebooks/data_table.ipynb>data table notebook</a>'\n",
              "          + ' to learn more about interactive tables.';\n",
              "        element.innerHTML = '';\n",
              "        dataTable['output_type'] = 'display_data';\n",
              "        await google.colab.output.renderOutput(dataTable, element);\n",
              "        const docLink = document.createElement('div');\n",
              "        docLink.innerHTML = docLinkHtml;\n",
              "        element.appendChild(docLink);\n",
              "      }\n",
              "    </script>\n",
              "  </div>\n",
              "\n",
              "\n",
              "<div id=\"df-cc283ec8-e45b-4fe6-8c64-ec994085e360\">\n",
              "  <button class=\"colab-df-quickchart\" onclick=\"quickchart('df-cc283ec8-e45b-4fe6-8c64-ec994085e360')\"\n",
              "            title=\"Suggest charts\"\n",
              "            style=\"display:none;\">\n",
              "\n",
              "<svg xmlns=\"http://www.w3.org/2000/svg\" height=\"24px\"viewBox=\"0 0 24 24\"\n",
              "     width=\"24px\">\n",
              "    <g>\n",
              "        <path d=\"M19 3H5c-1.1 0-2 .9-2 2v14c0 1.1.9 2 2 2h14c1.1 0 2-.9 2-2V5c0-1.1-.9-2-2-2zM9 17H7v-7h2v7zm4 0h-2V7h2v10zm4 0h-2v-4h2v4z\"/>\n",
              "    </g>\n",
              "</svg>\n",
              "  </button>\n",
              "\n",
              "<style>\n",
              "  .colab-df-quickchart {\n",
              "      --bg-color: #E8F0FE;\n",
              "      --fill-color: #1967D2;\n",
              "      --hover-bg-color: #E2EBFA;\n",
              "      --hover-fill-color: #174EA6;\n",
              "      --disabled-fill-color: #AAA;\n",
              "      --disabled-bg-color: #DDD;\n",
              "  }\n",
              "\n",
              "  [theme=dark] .colab-df-quickchart {\n",
              "      --bg-color: #3B4455;\n",
              "      --fill-color: #D2E3FC;\n",
              "      --hover-bg-color: #434B5C;\n",
              "      --hover-fill-color: #FFFFFF;\n",
              "      --disabled-bg-color: #3B4455;\n",
              "      --disabled-fill-color: #666;\n",
              "  }\n",
              "\n",
              "  .colab-df-quickchart {\n",
              "    background-color: var(--bg-color);\n",
              "    border: none;\n",
              "    border-radius: 50%;\n",
              "    cursor: pointer;\n",
              "    display: none;\n",
              "    fill: var(--fill-color);\n",
              "    height: 32px;\n",
              "    padding: 0;\n",
              "    width: 32px;\n",
              "  }\n",
              "\n",
              "  .colab-df-quickchart:hover {\n",
              "    background-color: var(--hover-bg-color);\n",
              "    box-shadow: 0 1px 2px rgba(60, 64, 67, 0.3), 0 1px 3px 1px rgba(60, 64, 67, 0.15);\n",
              "    fill: var(--button-hover-fill-color);\n",
              "  }\n",
              "\n",
              "  .colab-df-quickchart-complete:disabled,\n",
              "  .colab-df-quickchart-complete:disabled:hover {\n",
              "    background-color: var(--disabled-bg-color);\n",
              "    fill: var(--disabled-fill-color);\n",
              "    box-shadow: none;\n",
              "  }\n",
              "\n",
              "  .colab-df-spinner {\n",
              "    border: 2px solid var(--fill-color);\n",
              "    border-color: transparent;\n",
              "    border-bottom-color: var(--fill-color);\n",
              "    animation:\n",
              "      spin 1s steps(1) infinite;\n",
              "  }\n",
              "\n",
              "  @keyframes spin {\n",
              "    0% {\n",
              "      border-color: transparent;\n",
              "      border-bottom-color: var(--fill-color);\n",
              "      border-left-color: var(--fill-color);\n",
              "    }\n",
              "    20% {\n",
              "      border-color: transparent;\n",
              "      border-left-color: var(--fill-color);\n",
              "      border-top-color: var(--fill-color);\n",
              "    }\n",
              "    30% {\n",
              "      border-color: transparent;\n",
              "      border-left-color: var(--fill-color);\n",
              "      border-top-color: var(--fill-color);\n",
              "      border-right-color: var(--fill-color);\n",
              "    }\n",
              "    40% {\n",
              "      border-color: transparent;\n",
              "      border-right-color: var(--fill-color);\n",
              "      border-top-color: var(--fill-color);\n",
              "    }\n",
              "    60% {\n",
              "      border-color: transparent;\n",
              "      border-right-color: var(--fill-color);\n",
              "    }\n",
              "    80% {\n",
              "      border-color: transparent;\n",
              "      border-right-color: var(--fill-color);\n",
              "      border-bottom-color: var(--fill-color);\n",
              "    }\n",
              "    90% {\n",
              "      border-color: transparent;\n",
              "      border-bottom-color: var(--fill-color);\n",
              "    }\n",
              "  }\n",
              "</style>\n",
              "\n",
              "  <script>\n",
              "    async function quickchart(key) {\n",
              "      const quickchartButtonEl =\n",
              "        document.querySelector('#' + key + ' button');\n",
              "      quickchartButtonEl.disabled = true;  // To prevent multiple clicks.\n",
              "      quickchartButtonEl.classList.add('colab-df-spinner');\n",
              "      try {\n",
              "        const charts = await google.colab.kernel.invokeFunction(\n",
              "            'suggestCharts', [key], {});\n",
              "      } catch (error) {\n",
              "        console.error('Error during call to suggestCharts:', error);\n",
              "      }\n",
              "      quickchartButtonEl.classList.remove('colab-df-spinner');\n",
              "      quickchartButtonEl.classList.add('colab-df-quickchart-complete');\n",
              "    }\n",
              "    (() => {\n",
              "      let quickchartButtonEl =\n",
              "        document.querySelector('#df-cc283ec8-e45b-4fe6-8c64-ec994085e360 button');\n",
              "      quickchartButtonEl.style.display =\n",
              "        google.colab.kernel.accessAllowed ? 'block' : 'none';\n",
              "    })();\n",
              "  </script>\n",
              "</div>\n",
              "\n",
              "    </div>\n",
              "  </div>\n"
            ],
            "application/vnd.google.colaboratory.intrinsic+json": {
              "type": "dataframe",
              "summary": "{\n  \"name\": \"test\",\n  \"rows\": 418,\n  \"fields\": [\n    {\n      \"column\": \"PassengerId\",\n      \"properties\": {\n        \"dtype\": \"number\",\n        \"std\": 120,\n        \"min\": 892,\n        \"max\": 1309,\n        \"num_unique_values\": 418,\n        \"samples\": [\n          1213,\n          1216,\n          1280\n        ],\n        \"semantic_type\": \"\",\n        \"description\": \"\"\n      }\n    },\n    {\n      \"column\": \"Pclass\",\n      \"properties\": {\n        \"dtype\": \"number\",\n        \"std\": 0,\n        \"min\": 1,\n        \"max\": 3,\n        \"num_unique_values\": 3,\n        \"samples\": [\n          3,\n          2,\n          1\n        ],\n        \"semantic_type\": \"\",\n        \"description\": \"\"\n      }\n    },\n    {\n      \"column\": \"Name\",\n      \"properties\": {\n        \"dtype\": \"string\",\n        \"num_unique_values\": 418,\n        \"samples\": [\n          \"Krekorian, Mr. Neshan\",\n          \"Kreuchen, Miss. Emilie\",\n          \"Canavan, Mr. Patrick\"\n        ],\n        \"semantic_type\": \"\",\n        \"description\": \"\"\n      }\n    },\n    {\n      \"column\": \"Sex\",\n      \"properties\": {\n        \"dtype\": \"category\",\n        \"num_unique_values\": 2,\n        \"samples\": [\n          \"female\",\n          \"male\"\n        ],\n        \"semantic_type\": \"\",\n        \"description\": \"\"\n      }\n    },\n    {\n      \"column\": \"Age\",\n      \"properties\": {\n        \"dtype\": \"number\",\n        \"std\": 12.973485442022117,\n        \"min\": 0.17,\n        \"max\": 76.0,\n        \"num_unique_values\": 79,\n        \"samples\": [\n          20.0,\n          34.5\n        ],\n        \"semantic_type\": \"\",\n        \"description\": \"\"\n      }\n    },\n    {\n      \"column\": \"SibSp\",\n      \"properties\": {\n        \"dtype\": \"number\",\n        \"std\": 0,\n        \"min\": 0,\n        \"max\": 8,\n        \"num_unique_values\": 7,\n        \"samples\": [\n          0,\n          1\n        ],\n        \"semantic_type\": \"\",\n        \"description\": \"\"\n      }\n    },\n    {\n      \"column\": \"Parch\",\n      \"properties\": {\n        \"dtype\": \"number\",\n        \"std\": 0,\n        \"min\": 0,\n        \"max\": 9,\n        \"num_unique_values\": 8,\n        \"samples\": [\n          1,\n          6\n        ],\n        \"semantic_type\": \"\",\n        \"description\": \"\"\n      }\n    },\n    {\n      \"column\": \"Ticket\",\n      \"properties\": {\n        \"dtype\": \"string\",\n        \"num_unique_values\": 363,\n        \"samples\": [\n          \"2673\",\n          \"W./C. 6607\"\n        ],\n        \"semantic_type\": \"\",\n        \"description\": \"\"\n      }\n    },\n    {\n      \"column\": \"Fare\",\n      \"properties\": {\n        \"dtype\": \"number\",\n        \"std\": 55.907576179973844,\n        \"min\": 0.0,\n        \"max\": 512.3292,\n        \"num_unique_values\": 169,\n        \"samples\": [\n          41.5792,\n          57.75\n        ],\n        \"semantic_type\": \"\",\n        \"description\": \"\"\n      }\n    },\n    {\n      \"column\": \"Cabin\",\n      \"properties\": {\n        \"dtype\": \"category\",\n        \"num_unique_values\": 76,\n        \"samples\": [\n          \"A21\",\n          \"E45\"\n        ],\n        \"semantic_type\": \"\",\n        \"description\": \"\"\n      }\n    },\n    {\n      \"column\": \"Embarked\",\n      \"properties\": {\n        \"dtype\": \"category\",\n        \"num_unique_values\": 3,\n        \"samples\": [\n          \"Q\",\n          \"S\"\n        ],\n        \"semantic_type\": \"\",\n        \"description\": \"\"\n      }\n    },\n    {\n      \"column\": \"Title\",\n      \"properties\": {\n        \"dtype\": \"category\",\n        \"num_unique_values\": 6,\n        \"samples\": [\n          \"Mr\",\n          \"Mrs\"\n        ],\n        \"semantic_type\": \"\",\n        \"description\": \"\"\n      }\n    }\n  ]\n}"
            }
          },
          "metadata": {},
          "execution_count": 13
        }
      ]
    },
    {
      "cell_type": "markdown",
      "source": [
        "We are done with the Age variable. On to the next which the Fare variable."
      ],
      "metadata": {
        "id": "_63nbu0vtisr"
      }
    },
    {
      "cell_type": "markdown",
      "source": [
        "## Dealing with the fare missing values"
      ],
      "metadata": {
        "id": "3NySpMi8xinm"
      }
    },
    {
      "cell_type": "markdown",
      "source": [
        "We can use the median to impute for the missing values in the same approach as we did for the Age variable."
      ],
      "metadata": {
        "id": "H6lW7azzuA4f"
      }
    },
    {
      "cell_type": "code",
      "source": [
        "fares_class = dict(train.groupby(\"Pclass\")[\"Fare\"].median())\n",
        "fares_class = dict(test.groupby(\"Pclass\")[\"Fare\"].median())\n",
        "\n",
        "# Create a new column called Med_fare to help us in our task\n",
        "train[\"Med_Fare\"] = train[\"Pclass\"].apply(lambda x: fares_class[x])\n",
        "test[\"Med_Fare\"] = test[\"Pclass\"].apply(lambda x: fares_class[x])\n",
        "\n",
        "# Impute for the missing values\n",
        "train.Fare.fillna(train[\"Med_Fare\"], inplace=True,)\n",
        "test.Fare.fillna(test[\"Med_Fare\"], inplace=True,)"
      ],
      "metadata": {
        "id": "GLUh243StzwM"
      },
      "execution_count": 14,
      "outputs": []
    },
    {
      "cell_type": "code",
      "source": [
        "# Drop new column created\n",
        "train.drop(columns=[\"Med_Fare\"], inplace=True)\n",
        "test.drop(columns=[\"Med_Fare\"], inplace=True)"
      ],
      "metadata": {
        "id": "N_s45CbuvUGp"
      },
      "execution_count": 15,
      "outputs": []
    },
    {
      "cell_type": "markdown",
      "source": [
        "## Dealing with Embarked missing values"
      ],
      "metadata": {
        "id": "nv4lXPMzxYI4"
      }
    },
    {
      "cell_type": "markdown",
      "source": [
        "With this there are only 2 missing values in the training dataset so my approach is to use Pandas \"backfill\" method. The test dataset is okay so nothing would be done to it."
      ],
      "metadata": {
        "id": "q37r3HWmyBsf"
      }
    },
    {
      "cell_type": "code",
      "source": [
        "train[\"Embarked\"].fillna(method=\"backfill\", inplace=True)"
      ],
      "metadata": {
        "id": "2MF3F9jBxy81"
      },
      "execution_count": 17,
      "outputs": []
    },
    {
      "cell_type": "markdown",
      "source": [
        "## Dealing with the Cabin variable's missing values"
      ],
      "metadata": {
        "id": "G0j-3TBIz31x"
      }
    },
    {
      "cell_type": "markdown",
      "source": [
        "The approach is to extract the Deck variable attached to the Cabin variables and create a new column called Deck. We will then go ahead and drop the Cabin varible. Also for now, my approach is fill missing values with \"Missing\" in the Deck column."
      ],
      "metadata": {
        "id": "C0YA5WkPz_8G"
      }
    },
    {
      "cell_type": "code",
      "source": [
        "# Create a function that would be use to extract the variables\n",
        "def extract_deck(cabin):\n",
        "    if isinstance(cabin, str):\n",
        "        return cabin[0]\n",
        "    else:\n",
        "        return \"Missing\"\n",
        "\n",
        "train[\"Deck\"] = train[\"Cabin\"].apply(extract_deck)"
      ],
      "metadata": {
        "id": "vPl2mlEv2Qv7"
      },
      "execution_count": 51,
      "outputs": []
    },
    {
      "cell_type": "code",
      "source": [
        "train.drop(\"Cabin\", axis=1, inplace=True)\n",
        "test.drop(\"Cabin\", axis=1, inplace=True)"
      ],
      "metadata": {
        "id": "qGoeMwM_67-q"
      },
      "execution_count": 18,
      "outputs": []
    },
    {
      "cell_type": "markdown",
      "source": [
        "## Let us add family size variable to the data"
      ],
      "metadata": {
        "id": "SiiVOpQ9yvog"
      }
    },
    {
      "cell_type": "markdown",
      "source": [
        "We can achieve this by adding the `Parch` and `SibSp` variables together to get the `Family_Size` variable."
      ],
      "metadata": {
        "id": "VOpihsoNzDVA"
      }
    },
    {
      "cell_type": "code",
      "source": [
        "# Create Family_Size variable\n",
        "train[\"Family_Size\"] = train.Parch + train.SibSp\n",
        "test[\"Family_Size\"] = test.Parch + train.SibSp"
      ],
      "metadata": {
        "id": "grW3HjqWyeHI"
      },
      "execution_count": 19,
      "outputs": []
    },
    {
      "cell_type": "markdown",
      "source": [
        "We can now check to see if all the missing values have been filled in our data."
      ],
      "metadata": {
        "id": "Sd9zpbHh-BnL"
      }
    },
    {
      "cell_type": "code",
      "source": [
        "print(train.isnull().sum(), end=\"\\n\\n\")\n",
        "print(test.isnull().sum())"
      ],
      "metadata": {
        "colab": {
          "base_uri": "https://localhost:8080/"
        },
        "id": "UNjP6Tho9qy-",
        "outputId": "027df9d7-daec-43cd-d391-eab8c9f34ef6"
      },
      "execution_count": 23,
      "outputs": [
        {
          "output_type": "stream",
          "name": "stdout",
          "text": [
            "PassengerId    0\n",
            "Survived       0\n",
            "Pclass         0\n",
            "Name           0\n",
            "Sex            0\n",
            "Age            0\n",
            "SibSp          0\n",
            "Parch          0\n",
            "Ticket         0\n",
            "Fare           0\n",
            "Embarked       0\n",
            "Title          0\n",
            "Med_Age        0\n",
            "Family_Size    0\n",
            "dtype: int64\n",
            "\n",
            "PassengerId    0\n",
            "Pclass         0\n",
            "Name           0\n",
            "Sex            0\n",
            "Age            0\n",
            "SibSp          0\n",
            "Parch          0\n",
            "Ticket         0\n",
            "Fare           0\n",
            "Embarked       0\n",
            "Title          0\n",
            "Med_Age        0\n",
            "Family_Size    0\n",
            "dtype: int64\n"
          ]
        }
      ]
    },
    {
      "cell_type": "markdown",
      "source": [
        "## Let us save our cleaned datasets for future analysis and modelling."
      ],
      "metadata": {
        "id": "GwFL5EO2IpR2"
      }
    },
    {
      "cell_type": "code",
      "source": [
        "train.to_csv(\"train_cleaned.csv\", index=False)\n",
        "test.to_csv(\"test_cleaned.csv\", index=False)"
      ],
      "metadata": {
        "id": "2oBhswzkI5iJ"
      },
      "execution_count": 24,
      "outputs": []
    }
  ]
}